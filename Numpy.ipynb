{
 "cells": [
  {
   "cell_type": "code",
   "execution_count": 1,
   "id": "9a21300e-1695-4215-ba04-a940c2a0bb63",
   "metadata": {},
   "outputs": [],
   "source": [
    "import pandas as pd\n",
    "import numpy as np"
   ]
  },
  {
   "cell_type": "markdown",
   "id": "5e52c1d3-87ab-45f3-82f4-ebafb237b8cf",
   "metadata": {},
   "source": [
    "### Creating a One dimentional Array"
   ]
  },
  {
   "cell_type": "code",
   "execution_count": 2,
   "id": "8c23f450-d399-4fae-80cb-0a64e53272a6",
   "metadata": {},
   "outputs": [
    {
     "data": {
      "text/plain": [
       "array([1, 2, 3])"
      ]
     },
     "execution_count": 2,
     "metadata": {},
     "output_type": "execute_result"
    }
   ],
   "source": [
    "arr1 = np.array([1,2,3])\n",
    "arr1"
   ]
  },
  {
   "cell_type": "markdown",
   "id": "41c9de30-dedc-4096-abc5-ea334cda924a",
   "metadata": {},
   "source": [
    "### Checking the data type for an array"
   ]
  },
  {
   "cell_type": "code",
   "execution_count": 3,
   "id": "ba9e6adb-bc91-4c74-a16d-9ec771300590",
   "metadata": {},
   "outputs": [
    {
     "data": {
      "text/plain": [
       "numpy.ndarray"
      ]
     },
     "execution_count": 3,
     "metadata": {},
     "output_type": "execute_result"
    }
   ],
   "source": [
    "type(arr1)"
   ]
  },
  {
   "cell_type": "markdown",
   "id": "166130cc-f32c-4845-85f6-0ade68e20420",
   "metadata": {},
   "source": [
    "### Creating a Two dimensional Array"
   ]
  },
  {
   "cell_type": "code",
   "execution_count": 4,
   "id": "2c27a441-1b3a-49c7-8532-6b353cabf015",
   "metadata": {},
   "outputs": [
    {
     "data": {
      "text/plain": [
       "array([[1, 2, 3],\n",
       "       [4, 5, 6]])"
      ]
     },
     "execution_count": 4,
     "metadata": {},
     "output_type": "execute_result"
    }
   ],
   "source": [
    "arr2 = np.array([[1,2,3],[4,5,6]])\n",
    "arr2"
   ]
  },
  {
   "cell_type": "code",
   "execution_count": 5,
   "id": "c021df17-23be-4ed6-87a5-c9305d33b6d5",
   "metadata": {},
   "outputs": [
    {
     "data": {
      "text/plain": [
       "numpy.ndarray"
      ]
     },
     "execution_count": 5,
     "metadata": {},
     "output_type": "execute_result"
    }
   ],
   "source": [
    "type(arr2)"
   ]
  },
  {
   "cell_type": "markdown",
   "id": "b716a4a2-896b-4fdb-bac4-6d5c6a291010",
   "metadata": {},
   "source": [
    "### Creating a Three dimensional Array"
   ]
  },
  {
   "cell_type": "code",
   "execution_count": 6,
   "id": "0c4b1ef0-8e2b-48e2-a01e-e2cbb574833b",
   "metadata": {},
   "outputs": [
    {
     "data": {
      "text/plain": [
       "array([[[ 1,  2,  3],\n",
       "        [ 4,  5,  6],\n",
       "        [ 7,  8,  9]],\n",
       "\n",
       "       [[10, 11, 12],\n",
       "        [13, 14, 15],\n",
       "        [16, 17, 18]]])"
      ]
     },
     "execution_count": 6,
     "metadata": {},
     "output_type": "execute_result"
    }
   ],
   "source": [
    "arr3 = np.array([[[1,2,3],[4,5,6],[7,8,9]],[[10,11,12],[13,14,15],[16,17,18]]])\n",
    "arr3"
   ]
  },
  {
   "cell_type": "code",
   "execution_count": 7,
   "id": "db401e24-315d-47d3-8522-a1f67efca702",
   "metadata": {},
   "outputs": [
    {
     "data": {
      "text/plain": [
       "numpy.ndarray"
      ]
     },
     "execution_count": 7,
     "metadata": {},
     "output_type": "execute_result"
    }
   ],
   "source": [
    "type(arr3)"
   ]
  },
  {
   "cell_type": "markdown",
   "id": "4fd8fb69-65be-4da4-abfa-103839098043",
   "metadata": {},
   "source": [
    "### Get the Number of Rows and Columns of an array"
   ]
  },
  {
   "cell_type": "markdown",
   "id": "4f6586c5-f596-44a4-814f-59a6401f7584",
   "metadata": {},
   "source": [
    "#### Shape of arr1"
   ]
  },
  {
   "cell_type": "code",
   "execution_count": 8,
   "id": "d0dfac82-7899-4867-aee5-89407bd8e55e",
   "metadata": {},
   "outputs": [
    {
     "data": {
      "text/plain": [
       "(3,)"
      ]
     },
     "execution_count": 8,
     "metadata": {},
     "output_type": "execute_result"
    }
   ],
   "source": [
    "arr1.shape"
   ]
  },
  {
   "cell_type": "markdown",
   "id": "6b62a3d9-af87-4e05-a67d-2ba3df7f1c40",
   "metadata": {},
   "source": [
    "#### Shape of arr2"
   ]
  },
  {
   "cell_type": "code",
   "execution_count": 9,
   "id": "ce7348e8-2abc-4af2-a701-6f35f0ce598a",
   "metadata": {},
   "outputs": [
    {
     "data": {
      "text/plain": [
       "(2, 3)"
      ]
     },
     "execution_count": 9,
     "metadata": {},
     "output_type": "execute_result"
    }
   ],
   "source": [
    "arr2.shape"
   ]
  },
  {
   "cell_type": "markdown",
   "id": "0dfe3693-5c0f-4443-b444-74a870c01612",
   "metadata": {},
   "source": [
    "#### Shape of arr3"
   ]
  },
  {
   "cell_type": "code",
   "execution_count": 10,
   "id": "879956f6-dd75-4735-b6ce-8c0378528ee5",
   "metadata": {},
   "outputs": [
    {
     "data": {
      "text/plain": [
       "(2, 3, 3)"
      ]
     },
     "execution_count": 10,
     "metadata": {},
     "output_type": "execute_result"
    }
   ],
   "source": [
    "arr3.shape"
   ]
  },
  {
   "cell_type": "markdown",
   "id": "850ce05b-e559-4258-bd3a-5c04e23dac89",
   "metadata": {},
   "source": [
    "### Get the dimensions of an array"
   ]
  },
  {
   "cell_type": "markdown",
   "id": "a7779872-9761-4b1e-b360-de506de0ccf8",
   "metadata": {},
   "source": [
    "#### Dimensions of arr1"
   ]
  },
  {
   "cell_type": "code",
   "execution_count": 11,
   "id": "88262693-b8e7-4140-b2f9-9f0e18b93d08",
   "metadata": {},
   "outputs": [
    {
     "data": {
      "text/plain": [
       "1"
      ]
     },
     "execution_count": 11,
     "metadata": {},
     "output_type": "execute_result"
    }
   ],
   "source": [
    "arr1.ndim"
   ]
  },
  {
   "cell_type": "markdown",
   "id": "db9b6a34-b131-42cc-af10-8f320c99d90d",
   "metadata": {},
   "source": [
    "#### Dimensions of arr2"
   ]
  },
  {
   "cell_type": "code",
   "execution_count": 12,
   "id": "120a91f6-fa12-4c36-99e1-1114d9472c1f",
   "metadata": {},
   "outputs": [
    {
     "data": {
      "text/plain": [
       "2"
      ]
     },
     "execution_count": 12,
     "metadata": {},
     "output_type": "execute_result"
    }
   ],
   "source": [
    "arr2.ndim"
   ]
  },
  {
   "cell_type": "markdown",
   "id": "e08b079d-831a-4775-9a26-b3fd2eb0f8a0",
   "metadata": {},
   "source": [
    "#### Dimensions of arr3"
   ]
  },
  {
   "cell_type": "code",
   "execution_count": 13,
   "id": "fa41aea1-adee-475a-92d8-386f12a13574",
   "metadata": {},
   "outputs": [
    {
     "data": {
      "text/plain": [
       "3"
      ]
     },
     "execution_count": 13,
     "metadata": {},
     "output_type": "execute_result"
    }
   ],
   "source": [
    "arr3.ndim"
   ]
  },
  {
   "cell_type": "markdown",
   "id": "0720b35b-e14d-44dc-973c-1b3b2581df6f",
   "metadata": {},
   "source": [
    "### Get the data types of arrays"
   ]
  },
  {
   "cell_type": "markdown",
   "id": "e41c61bd-83b5-416d-b431-a88377dcd376",
   "metadata": {},
   "source": [
    "### Data type of arr1"
   ]
  },
  {
   "cell_type": "code",
   "execution_count": 14,
   "id": "42b99a61-663b-4c51-93e5-762091954803",
   "metadata": {},
   "outputs": [
    {
     "data": {
      "text/plain": [
       "dtype('int64')"
      ]
     },
     "execution_count": 14,
     "metadata": {},
     "output_type": "execute_result"
    }
   ],
   "source": [
    "arr1.dtype"
   ]
  },
  {
   "cell_type": "markdown",
   "id": "ac6b72b5-7a0e-4b6a-b625-3781fb362c2f",
   "metadata": {},
   "source": [
    "### Data type of arr2"
   ]
  },
  {
   "cell_type": "code",
   "execution_count": 15,
   "id": "ea65877d-822f-437e-9025-64b28758fc80",
   "metadata": {},
   "outputs": [
    {
     "data": {
      "text/plain": [
       "dtype('int64')"
      ]
     },
     "execution_count": 15,
     "metadata": {},
     "output_type": "execute_result"
    }
   ],
   "source": [
    "arr2.dtype"
   ]
  },
  {
   "cell_type": "markdown",
   "id": "87202dcf-3030-446d-b30f-319edf2ef9d4",
   "metadata": {},
   "source": [
    "### Data type of arr3"
   ]
  },
  {
   "cell_type": "code",
   "execution_count": 16,
   "id": "c025d946-83e7-4452-887c-7dd9723d4437",
   "metadata": {},
   "outputs": [
    {
     "data": {
      "text/plain": [
       "dtype('int64')"
      ]
     },
     "execution_count": 16,
     "metadata": {},
     "output_type": "execute_result"
    }
   ],
   "source": [
    "arr3.dtype"
   ]
  },
  {
   "cell_type": "markdown",
   "id": "ff6d3821-49c9-4dc9-8d2b-58822efa0c3b",
   "metadata": {},
   "source": [
    "### Data type of arr4"
   ]
  },
  {
   "cell_type": "code",
   "execution_count": 17,
   "id": "23a05714-6453-4cf9-9d82-6d5d3522c5c2",
   "metadata": {},
   "outputs": [
    {
     "data": {
      "text/plain": [
       "(dtype('<U32'), 3)"
      ]
     },
     "execution_count": 17,
     "metadata": {},
     "output_type": "execute_result"
    }
   ],
   "source": [
    "arr4 = np.array([[[1,2,3],[4.3,3.2,7.6],['a','b','c']],[['e','f','g'],[1,2,3],[3.2,2.1,1.6]]])\n",
    "arr4.dtype,arr4.ndim"
   ]
  },
  {
   "cell_type": "markdown",
   "id": "961e6f5b-00e8-40f2-9180-b958cab4f282",
   "metadata": {},
   "source": [
    "### Get the size of an array\n",
    "#### It will show how many elements are in the array"
   ]
  },
  {
   "cell_type": "code",
   "execution_count": 18,
   "id": "80018932-d15f-4c4c-b967-4c876af15763",
   "metadata": {},
   "outputs": [
    {
     "data": {
      "text/plain": [
       "3"
      ]
     },
     "execution_count": 18,
     "metadata": {},
     "output_type": "execute_result"
    }
   ],
   "source": [
    "arr1.size"
   ]
  },
  {
   "cell_type": "code",
   "execution_count": 19,
   "id": "fa4d9e1d-cc11-46fc-98ae-2669169f886a",
   "metadata": {},
   "outputs": [
    {
     "data": {
      "text/plain": [
       "6"
      ]
     },
     "execution_count": 19,
     "metadata": {},
     "output_type": "execute_result"
    }
   ],
   "source": [
    "arr2.size"
   ]
  },
  {
   "cell_type": "code",
   "execution_count": 20,
   "id": "9202069a-7376-4d50-9fed-81ef37eb29e0",
   "metadata": {},
   "outputs": [
    {
     "data": {
      "text/plain": [
       "18"
      ]
     },
     "execution_count": 20,
     "metadata": {},
     "output_type": "execute_result"
    }
   ],
   "source": [
    "arr3.size"
   ]
  },
  {
   "cell_type": "code",
   "execution_count": 21,
   "id": "efb61632-6c05-44b2-a767-eb4675e39738",
   "metadata": {},
   "outputs": [
    {
     "data": {
      "text/plain": [
       "18"
      ]
     },
     "execution_count": 21,
     "metadata": {},
     "output_type": "execute_result"
    }
   ],
   "source": [
    "arr4.size"
   ]
  },
  {
   "cell_type": "markdown",
   "id": "87302f90-f48a-4044-840c-0ccd13828e7a",
   "metadata": {},
   "source": [
    "### Creating a dataframe from a numpy array"
   ]
  },
  {
   "cell_type": "code",
   "execution_count": 22,
   "id": "e39e4116-ed81-4bcc-a5cc-71eb485ca1f0",
   "metadata": {},
   "outputs": [
    {
     "data": {
      "text/html": [
       "<div>\n",
       "<style scoped>\n",
       "    .dataframe tbody tr th:only-of-type {\n",
       "        vertical-align: middle;\n",
       "    }\n",
       "\n",
       "    .dataframe tbody tr th {\n",
       "        vertical-align: top;\n",
       "    }\n",
       "\n",
       "    .dataframe thead th {\n",
       "        text-align: right;\n",
       "    }\n",
       "</style>\n",
       "<table border=\"1\" class=\"dataframe\">\n",
       "  <thead>\n",
       "    <tr style=\"text-align: right;\">\n",
       "      <th></th>\n",
       "      <th>0</th>\n",
       "    </tr>\n",
       "  </thead>\n",
       "  <tbody>\n",
       "    <tr>\n",
       "      <th>0</th>\n",
       "      <td>1</td>\n",
       "    </tr>\n",
       "    <tr>\n",
       "      <th>1</th>\n",
       "      <td>2</td>\n",
       "    </tr>\n",
       "    <tr>\n",
       "      <th>2</th>\n",
       "      <td>3</td>\n",
       "    </tr>\n",
       "  </tbody>\n",
       "</table>\n",
       "</div>"
      ],
      "text/plain": [
       "   0\n",
       "0  1\n",
       "1  2\n",
       "2  3"
      ]
     },
     "execution_count": 22,
     "metadata": {},
     "output_type": "execute_result"
    }
   ],
   "source": [
    "df = pd.DataFrame(arr1)\n",
    "df"
   ]
  },
  {
   "cell_type": "code",
   "execution_count": 23,
   "id": "d963603f-5eab-4a54-8ac0-309dc4625726",
   "metadata": {},
   "outputs": [
    {
     "data": {
      "text/html": [
       "<div>\n",
       "<style scoped>\n",
       "    .dataframe tbody tr th:only-of-type {\n",
       "        vertical-align: middle;\n",
       "    }\n",
       "\n",
       "    .dataframe tbody tr th {\n",
       "        vertical-align: top;\n",
       "    }\n",
       "\n",
       "    .dataframe thead th {\n",
       "        text-align: right;\n",
       "    }\n",
       "</style>\n",
       "<table border=\"1\" class=\"dataframe\">\n",
       "  <thead>\n",
       "    <tr style=\"text-align: right;\">\n",
       "      <th></th>\n",
       "      <th>0</th>\n",
       "      <th>1</th>\n",
       "      <th>2</th>\n",
       "    </tr>\n",
       "  </thead>\n",
       "  <tbody>\n",
       "    <tr>\n",
       "      <th>0</th>\n",
       "      <td>1</td>\n",
       "      <td>2</td>\n",
       "      <td>3</td>\n",
       "    </tr>\n",
       "    <tr>\n",
       "      <th>1</th>\n",
       "      <td>4</td>\n",
       "      <td>5</td>\n",
       "      <td>6</td>\n",
       "    </tr>\n",
       "  </tbody>\n",
       "</table>\n",
       "</div>"
      ],
      "text/plain": [
       "   0  1  2\n",
       "0  1  2  3\n",
       "1  4  5  6"
      ]
     },
     "execution_count": 23,
     "metadata": {},
     "output_type": "execute_result"
    }
   ],
   "source": [
    "df1 = pd.DataFrame(arr2)\n",
    "df1"
   ]
  },
  {
   "cell_type": "code",
   "execution_count": 24,
   "id": "6565d554-e433-4e5d-943d-de078784fb93",
   "metadata": {},
   "outputs": [
    {
     "ename": "ValueError",
     "evalue": "Must pass 2-d input. shape=(2, 3, 3)",
     "output_type": "error",
     "traceback": [
      "\u001b[0;31m---------------------------------------------------------------------------\u001b[0m",
      "\u001b[0;31mValueError\u001b[0m                                Traceback (most recent call last)",
      "Cell \u001b[0;32mIn[24], line 1\u001b[0m\n\u001b[0;32m----> 1\u001b[0m df3 \u001b[38;5;241m=\u001b[39m \u001b[43mpd\u001b[49m\u001b[38;5;241;43m.\u001b[39;49m\u001b[43mDataFrame\u001b[49m\u001b[43m(\u001b[49m\u001b[43marr3\u001b[49m\u001b[43m)\u001b[49m\n\u001b[1;32m      2\u001b[0m df3\n",
      "File \u001b[0;32m~/.local/lib/python3.10/site-packages/pandas/core/frame.py:827\u001b[0m, in \u001b[0;36mDataFrame.__init__\u001b[0;34m(self, data, index, columns, dtype, copy)\u001b[0m\n\u001b[1;32m    816\u001b[0m         mgr \u001b[38;5;241m=\u001b[39m dict_to_mgr(\n\u001b[1;32m    817\u001b[0m             \u001b[38;5;66;03m# error: Item \"ndarray\" of \"Union[ndarray, Series, Index]\" has no\u001b[39;00m\n\u001b[1;32m    818\u001b[0m             \u001b[38;5;66;03m# attribute \"name\"\u001b[39;00m\n\u001b[0;32m   (...)\u001b[0m\n\u001b[1;32m    824\u001b[0m             copy\u001b[38;5;241m=\u001b[39m_copy,\n\u001b[1;32m    825\u001b[0m         )\n\u001b[1;32m    826\u001b[0m     \u001b[38;5;28;01melse\u001b[39;00m:\n\u001b[0;32m--> 827\u001b[0m         mgr \u001b[38;5;241m=\u001b[39m \u001b[43mndarray_to_mgr\u001b[49m\u001b[43m(\u001b[49m\n\u001b[1;32m    828\u001b[0m \u001b[43m            \u001b[49m\u001b[43mdata\u001b[49m\u001b[43m,\u001b[49m\n\u001b[1;32m    829\u001b[0m \u001b[43m            \u001b[49m\u001b[43mindex\u001b[49m\u001b[43m,\u001b[49m\n\u001b[1;32m    830\u001b[0m \u001b[43m            \u001b[49m\u001b[43mcolumns\u001b[49m\u001b[43m,\u001b[49m\n\u001b[1;32m    831\u001b[0m \u001b[43m            \u001b[49m\u001b[43mdtype\u001b[49m\u001b[38;5;241;43m=\u001b[39;49m\u001b[43mdtype\u001b[49m\u001b[43m,\u001b[49m\n\u001b[1;32m    832\u001b[0m \u001b[43m            \u001b[49m\u001b[43mcopy\u001b[49m\u001b[38;5;241;43m=\u001b[39;49m\u001b[43mcopy\u001b[49m\u001b[43m,\u001b[49m\n\u001b[1;32m    833\u001b[0m \u001b[43m            \u001b[49m\u001b[43mtyp\u001b[49m\u001b[38;5;241;43m=\u001b[39;49m\u001b[43mmanager\u001b[49m\u001b[43m,\u001b[49m\n\u001b[1;32m    834\u001b[0m \u001b[43m        \u001b[49m\u001b[43m)\u001b[49m\n\u001b[1;32m    836\u001b[0m \u001b[38;5;66;03m# For data is list-like, or Iterable (will consume into list)\u001b[39;00m\n\u001b[1;32m    837\u001b[0m \u001b[38;5;28;01melif\u001b[39;00m is_list_like(data):\n",
      "File \u001b[0;32m~/.local/lib/python3.10/site-packages/pandas/core/internals/construction.py:314\u001b[0m, in \u001b[0;36mndarray_to_mgr\u001b[0;34m(values, index, columns, dtype, copy, typ)\u001b[0m\n\u001b[1;32m    308\u001b[0m     _copy \u001b[38;5;241m=\u001b[39m (\n\u001b[1;32m    309\u001b[0m         copy_on_sanitize\n\u001b[1;32m    310\u001b[0m         \u001b[38;5;28;01mif\u001b[39;00m (dtype \u001b[38;5;129;01mis\u001b[39;00m \u001b[38;5;28;01mNone\u001b[39;00m \u001b[38;5;129;01mor\u001b[39;00m astype_is_view(values\u001b[38;5;241m.\u001b[39mdtype, dtype))\n\u001b[1;32m    311\u001b[0m         \u001b[38;5;28;01melse\u001b[39;00m \u001b[38;5;28;01mFalse\u001b[39;00m\n\u001b[1;32m    312\u001b[0m     )\n\u001b[1;32m    313\u001b[0m     values \u001b[38;5;241m=\u001b[39m np\u001b[38;5;241m.\u001b[39marray(values, copy\u001b[38;5;241m=\u001b[39m_copy)\n\u001b[0;32m--> 314\u001b[0m     values \u001b[38;5;241m=\u001b[39m \u001b[43m_ensure_2d\u001b[49m\u001b[43m(\u001b[49m\u001b[43mvalues\u001b[49m\u001b[43m)\u001b[49m\n\u001b[1;32m    316\u001b[0m \u001b[38;5;28;01melse\u001b[39;00m:\n\u001b[1;32m    317\u001b[0m     \u001b[38;5;66;03m# by definition an array here\u001b[39;00m\n\u001b[1;32m    318\u001b[0m     \u001b[38;5;66;03m# the dtypes will be coerced to a single dtype\u001b[39;00m\n\u001b[1;32m    319\u001b[0m     values \u001b[38;5;241m=\u001b[39m _prep_ndarraylike(values, copy\u001b[38;5;241m=\u001b[39mcopy_on_sanitize)\n",
      "File \u001b[0;32m~/.local/lib/python3.10/site-packages/pandas/core/internals/construction.py:592\u001b[0m, in \u001b[0;36m_ensure_2d\u001b[0;34m(values)\u001b[0m\n\u001b[1;32m    590\u001b[0m     values \u001b[38;5;241m=\u001b[39m values\u001b[38;5;241m.\u001b[39mreshape((values\u001b[38;5;241m.\u001b[39mshape[\u001b[38;5;241m0\u001b[39m], \u001b[38;5;241m1\u001b[39m))\n\u001b[1;32m    591\u001b[0m \u001b[38;5;28;01melif\u001b[39;00m values\u001b[38;5;241m.\u001b[39mndim \u001b[38;5;241m!=\u001b[39m \u001b[38;5;241m2\u001b[39m:\n\u001b[0;32m--> 592\u001b[0m     \u001b[38;5;28;01mraise\u001b[39;00m \u001b[38;5;167;01mValueError\u001b[39;00m(\u001b[38;5;124mf\u001b[39m\u001b[38;5;124m\"\u001b[39m\u001b[38;5;124mMust pass 2-d input. shape=\u001b[39m\u001b[38;5;132;01m{\u001b[39;00mvalues\u001b[38;5;241m.\u001b[39mshape\u001b[38;5;132;01m}\u001b[39;00m\u001b[38;5;124m\"\u001b[39m)\n\u001b[1;32m    593\u001b[0m \u001b[38;5;28;01mreturn\u001b[39;00m values\n",
      "\u001b[0;31mValueError\u001b[0m: Must pass 2-d input. shape=(2, 3, 3)"
     ]
    }
   ],
   "source": [
    "df3 = pd.DataFrame(arr3)\n",
    "df3"
   ]
  },
  {
   "cell_type": "markdown",
   "id": "e0397acf-7a4f-45c5-8fde-2cb25c98fa64",
   "metadata": {},
   "source": [
    "### Create a dataframe includes only 1"
   ]
  },
  {
   "cell_type": "code",
   "execution_count": null,
   "id": "324a1ea2-8e58-4870-8ea8-b9bbc58ebea8",
   "metadata": {},
   "outputs": [],
   "source": [
    "df2 = np.ones((3,3))\n",
    "df2"
   ]
  },
  {
   "cell_type": "markdown",
   "id": "18bc60a9-333a-4a04-96ee-9e5878a053fe",
   "metadata": {},
   "source": [
    "### Create a dataframe includes only 0"
   ]
  },
  {
   "cell_type": "code",
   "execution_count": null,
   "id": "f82bf10b-6018-4e06-bdc0-1788d379f99d",
   "metadata": {},
   "outputs": [],
   "source": [
    "df3 = np.zeros((3,3))\n",
    "df3"
   ]
  },
  {
   "cell_type": "markdown",
   "id": "65c121af-435f-48c0-a9e1-66469409dc58",
   "metadata": {},
   "source": [
    "### Create a dataframe from range and random function"
   ]
  },
  {
   "cell_type": "code",
   "execution_count": null,
   "id": "6647e639-b411-4dc3-b5ca-4a56f4504b33",
   "metadata": {},
   "outputs": [],
   "source": [
    "range_df = np.arange(0,10,1)\n",
    "range_df"
   ]
  },
  {
   "cell_type": "code",
   "execution_count": null,
   "id": "5bade4c8-bfe0-43cb-9075-da1ac5a2dea0",
   "metadata": {},
   "outputs": [],
   "source": [
    "random_df = np.random.randint(5,20,size=(2,4))\n",
    "random_df"
   ]
  },
  {
   "cell_type": "code",
   "execution_count": null,
   "id": "1e503918-750b-4f4b-b15d-f465d21e5c24",
   "metadata": {},
   "outputs": [],
   "source": [
    "random_df.size"
   ]
  },
  {
   "cell_type": "code",
   "execution_count": null,
   "id": "1ac604f6-d973-4e7f-9ca8-201e56772a33",
   "metadata": {},
   "outputs": [],
   "source": [
    "random_df.shape"
   ]
  },
  {
   "cell_type": "code",
   "execution_count": null,
   "id": "b4341552-d66e-4cf3-9975-b9726919ae13",
   "metadata": {},
   "outputs": [],
   "source": [
    "random_df.ndim"
   ]
  },
  {
   "cell_type": "code",
   "execution_count": null,
   "id": "7dc244e4-b51b-4858-867e-55048063e7d0",
   "metadata": {},
   "outputs": [],
   "source": [
    "random_df1 = np.random.random((2,3))\n",
    "random_df1"
   ]
  },
  {
   "cell_type": "code",
   "execution_count": null,
   "id": "ea8a07f4-fc57-4cf6-8452-1e5968eecbb9",
   "metadata": {},
   "outputs": [],
   "source": [
    "random_df2 = np.random.rand(3,3)\n",
    "random_df2"
   ]
  },
  {
   "cell_type": "markdown",
   "id": "52e9ab97-b3e5-4a5e-907c-5d34722242e3",
   "metadata": {},
   "source": [
    "### Creating a random values in a dataframe using Random seed"
   ]
  },
  {
   "cell_type": "code",
   "execution_count": null,
   "id": "34597716-0377-4718-a40b-bf464a6c0d6b",
   "metadata": {},
   "outputs": [],
   "source": [
    "np.random.seed(seed=0)\n",
    "df_random_seed = pd.DataFrame(np.random.rand(2,3))\n",
    "df_random_seed"
   ]
  },
  {
   "cell_type": "markdown",
   "id": "cc8c6510-3417-4811-b039-eed4b2e3a96a",
   "metadata": {},
   "source": [
    "### Get a unqiue values from a dataframe"
   ]
  },
  {
   "cell_type": "code",
   "execution_count": null,
   "id": "fabce2a0-7933-453a-b790-abab2eecb7d7",
   "metadata": {},
   "outputs": [],
   "source": [
    "random_df"
   ]
  },
  {
   "cell_type": "code",
   "execution_count": null,
   "id": "cae009ba-8a42-4736-9d97-809cecdc8b3c",
   "metadata": {},
   "outputs": [],
   "source": [
    "np.uniaque(random_df)"
   ]
  },
  {
   "cell_type": "markdown",
   "id": "be649878-9c3b-4a45-988b-848fefddcd4e",
   "metadata": {},
   "source": [
    "### Numpy Arithmetic Operators"
   ]
  },
  {
   "cell_type": "code",
   "execution_count": null,
   "id": "f42133f3-1ef6-4d9d-a669-39876cf4bb7e",
   "metadata": {},
   "outputs": [],
   "source": [
    "a1 = np.random.randint(1,10,size=(3,3))\n",
    "a1"
   ]
  },
  {
   "cell_type": "code",
   "execution_count": null,
   "id": "d84af766-6f45-4fe4-a076-48940fa282e9",
   "metadata": {},
   "outputs": [],
   "source": [
    "a2 = np.random.randint(11,19,size=(3,4))\n",
    "a2"
   ]
  },
  {
   "cell_type": "code",
   "execution_count": null,
   "id": "9de93649-620b-4410-87cf-c6755df8ce75",
   "metadata": {},
   "outputs": [],
   "source": [
    "a3 = np.random.randint(11,19,size=(3,3))\n",
    "a3"
   ]
  },
  {
   "cell_type": "code",
   "execution_count": null,
   "id": "e5fab4a6-0620-4f4b-ad1a-fd5e453473d5",
   "metadata": {},
   "outputs": [],
   "source": [
    "a1*a3"
   ]
  },
  {
   "cell_type": "code",
   "execution_count": null,
   "id": "284933d9-8f3d-43b8-bcdd-ee63da30e15a",
   "metadata": {},
   "outputs": [],
   "source": [
    "a1-a3"
   ]
  },
  {
   "cell_type": "code",
   "execution_count": null,
   "id": "93750ae6-5bdc-4689-ad2b-a3f9cd0e9698",
   "metadata": {},
   "outputs": [],
   "source": [
    "a1**a3"
   ]
  },
  {
   "cell_type": "code",
   "execution_count": null,
   "id": "fad79db0-e9bf-4bf6-9ecb-3e3774a253ba",
   "metadata": {},
   "outputs": [],
   "source": [
    "a1+a3"
   ]
  },
  {
   "cell_type": "code",
   "execution_count": null,
   "id": "8b2f2ee3-5904-4d73-87cc-3ab3aea06478",
   "metadata": {},
   "outputs": [],
   "source": [
    "a1/a3"
   ]
  },
  {
   "cell_type": "code",
   "execution_count": null,
   "id": "8bebefd8-c3d3-4b2b-b4b9-9f548386c89f",
   "metadata": {},
   "outputs": [],
   "source": [
    "np.square(a3)"
   ]
  },
  {
   "cell_type": "markdown",
   "id": "2aab7216-9705-446a-ae9a-d30d3b0337d9",
   "metadata": {},
   "source": [
    "### Aggregate Function"
   ]
  },
  {
   "cell_type": "code",
   "execution_count": null,
   "id": "c540d1eb-5190-4001-bab6-f0227e11690d",
   "metadata": {},
   "outputs": [],
   "source": [
    "lst = [1,2,3,4,5]"
   ]
  },
  {
   "cell_type": "code",
   "execution_count": null,
   "id": "df6ab061-f919-4d13-a7b7-5ea761200fda",
   "metadata": {},
   "outputs": [],
   "source": [
    "%%timeit\n",
    "sum(lst)"
   ]
  },
  {
   "cell_type": "code",
   "execution_count": null,
   "id": "b0fced87-5c61-44be-9771-da168bdc7f6d",
   "metadata": {},
   "outputs": [],
   "source": [
    "%%timeit\n",
    "np.sum(lst)"
   ]
  },
  {
   "cell_type": "markdown",
   "id": "2d432fa1-67a6-45a9-81f2-1768bce89ebd",
   "metadata": {},
   "source": [
    "### Reshape the numpy array"
   ]
  },
  {
   "cell_type": "code",
   "execution_count": null,
   "id": "8bda6324-b09c-4298-9101-4e2fc94183ac",
   "metadata": {},
   "outputs": [],
   "source": [
    "nparr1 = np.random.randint(11,100,size=(2,3))\n",
    "nparr1"
   ]
  },
  {
   "cell_type": "code",
   "execution_count": null,
   "id": "1f56f6e3-6067-4467-856f-3be9f501b043",
   "metadata": {},
   "outputs": [],
   "source": [
    "nparr2 = np.random.rand(4,3)\n",
    "nparr2"
   ]
  },
  {
   "cell_type": "code",
   "execution_count": null,
   "id": "317d413b-962f-44bd-977b-efbd5343bf99",
   "metadata": {},
   "outputs": [],
   "source": [
    "nparr1*nparr2"
   ]
  },
  {
   "cell_type": "code",
   "execution_count": null,
   "id": "45cc11df-8af2-4796-8ca8-4e9e8b31971f",
   "metadata": {},
   "outputs": [],
   "source": [
    "nparr1.shape"
   ]
  },
  {
   "cell_type": "code",
   "execution_count": null,
   "id": "7e87ebb9-2d5e-4b22-bcf1-1847a0712da8",
   "metadata": {},
   "outputs": [],
   "source": [
    "nparr2.shape"
   ]
  },
  {
   "cell_type": "code",
   "execution_count": null,
   "id": "30781bff-510c-407f-9f95-4b86c88b0767",
   "metadata": {},
   "outputs": [],
   "source": [
    "nparr1.reshape(2,3)"
   ]
  },
  {
   "cell_type": "code",
   "execution_count": null,
   "id": "30143574-ea92-435f-a28a-4c7c93b15034",
   "metadata": {},
   "outputs": [],
   "source": [
    "nparr1.shape"
   ]
  },
  {
   "cell_type": "code",
   "execution_count": null,
   "id": "7614f453-d08f-4093-8b57-7667c6c6c065",
   "metadata": {},
   "outputs": [],
   "source": [
    "nparr1*nparr2"
   ]
  },
  {
   "cell_type": "markdown",
   "id": "63b99d76-36f4-47a8-ba4c-473575f7791f",
   "metadata": {},
   "source": [
    "### Transpose the numpy array"
   ]
  },
  {
   "cell_type": "code",
   "execution_count": 25,
   "id": "b50b582f-0f45-455a-949c-f1d9ae152dfb",
   "metadata": {},
   "outputs": [],
   "source": [
    "array = np.random.rand(2,3)"
   ]
  },
  {
   "cell_type": "code",
   "execution_count": 26,
   "id": "f33c8c01-e8ae-4478-b358-8925a35c3e39",
   "metadata": {},
   "outputs": [
    {
     "data": {
      "text/plain": [
       "array([[0.94429012, 0.08923812, 0.70857024],\n",
       "       [0.47552012, 0.26378195, 0.54076735]])"
      ]
     },
     "execution_count": 26,
     "metadata": {},
     "output_type": "execute_result"
    }
   ],
   "source": [
    "array"
   ]
  },
  {
   "cell_type": "code",
   "execution_count": 27,
   "id": "8219797a-9d27-4599-a1ef-7e137749a2f1",
   "metadata": {},
   "outputs": [
    {
     "data": {
      "text/plain": [
       "array([[0.94429012, 0.47552012],\n",
       "       [0.08923812, 0.26378195],\n",
       "       [0.70857024, 0.54076735]])"
      ]
     },
     "execution_count": 27,
     "metadata": {},
     "output_type": "execute_result"
    }
   ],
   "source": [
    "array.T"
   ]
  },
  {
   "cell_type": "code",
   "execution_count": 28,
   "id": "9c522ff7-6573-4152-aa41-ded6b95811b0",
   "metadata": {},
   "outputs": [
    {
     "data": {
      "text/plain": [
       "(3, 2)"
      ]
     },
     "execution_count": 28,
     "metadata": {},
     "output_type": "execute_result"
    }
   ],
   "source": [
    "array.T.shape"
   ]
  },
  {
   "cell_type": "markdown",
   "id": "c5a32b48-540f-4a1c-9a9a-4c9cc96bd94f",
   "metadata": {},
   "source": [
    "### Element wise multiplication"
   ]
  },
  {
   "cell_type": "code",
   "execution_count": 29,
   "id": "0e7f3744-8c2f-49df-85ab-34d03e4c73a2",
   "metadata": {},
   "outputs": [],
   "source": [
    "a1 = np.random.randint(1,30,size=(3,3))\n",
    "a2 = np.random.randint(31,60,size=(3,3))"
   ]
  },
  {
   "cell_type": "code",
   "execution_count": 30,
   "id": "b7798edc-2398-4efb-b277-896cbcf6fa94",
   "metadata": {},
   "outputs": [
    {
     "data": {
      "text/plain": [
       "array([[28, 10, 23],\n",
       "       [16, 10,  1],\n",
       "       [19,  4, 13]])"
      ]
     },
     "execution_count": 30,
     "metadata": {},
     "output_type": "execute_result"
    }
   ],
   "source": [
    "a1"
   ]
  },
  {
   "cell_type": "code",
   "execution_count": 31,
   "id": "b75c1fe8-fff6-49a9-ae2f-5a3200133238",
   "metadata": {},
   "outputs": [
    {
     "data": {
      "text/plain": [
       "array([[37, 37, 48],\n",
       "       [31, 44, 52],\n",
       "       [49, 31, 52]])"
      ]
     },
     "execution_count": 31,
     "metadata": {},
     "output_type": "execute_result"
    }
   ],
   "source": [
    "a2"
   ]
  },
  {
   "cell_type": "code",
   "execution_count": 32,
   "id": "1ca91ae9-4724-4374-a44e-a8192c19fb03",
   "metadata": {},
   "outputs": [
    {
     "data": {
      "text/plain": [
       "array([[1036,  370, 1104],\n",
       "       [ 496,  440,   52],\n",
       "       [ 931,  124,  676]])"
      ]
     },
     "execution_count": 32,
     "metadata": {},
     "output_type": "execute_result"
    }
   ],
   "source": [
    "a1*a2"
   ]
  },
  {
   "cell_type": "markdown",
   "id": "80d85e7d-f878-4f85-ab58-bf7669e1bd09",
   "metadata": {},
   "source": [
    "### Dot product"
   ]
  },
  {
   "cell_type": "code",
   "execution_count": 33,
   "id": "83e2f8f6-1de5-424b-af60-29ddfdfa8efa",
   "metadata": {},
   "outputs": [
    {
     "data": {
      "text/plain": [
       "array([[2473, 2189, 3060],\n",
       "       [ 951, 1063, 1340],\n",
       "       [1464, 1282, 1796]])"
      ]
     },
     "execution_count": 33,
     "metadata": {},
     "output_type": "execute_result"
    }
   ],
   "source": [
    "np.dot(a1,a2)"
   ]
  },
  {
   "cell_type": "markdown",
   "id": "146f1a3e-bfce-4b0e-94ac-3fb493f154d3",
   "metadata": {},
   "source": [
    "### Comparison Operator"
   ]
  },
  {
   "cell_type": "code",
   "execution_count": 39,
   "id": "8ae0c9cf-9c7a-43cb-903a-820f0b5cec72",
   "metadata": {},
   "outputs": [
    {
     "data": {
      "text/plain": [
       "array([[5, 4, 3],\n",
       "       [4, 4, 4]])"
      ]
     },
     "execution_count": 39,
     "metadata": {},
     "output_type": "execute_result"
    }
   ],
   "source": [
    "array1 = np.random.randint(3,6,size=(2,3))\n",
    "array1"
   ]
  },
  {
   "cell_type": "code",
   "execution_count": 38,
   "id": "7ae89609-2024-4fef-86ee-3f8fe318f9d7",
   "metadata": {},
   "outputs": [
    {
     "data": {
      "text/plain": [
       "array([[2, 6, 6],\n",
       "       [2, 8, 3]])"
      ]
     },
     "execution_count": 38,
     "metadata": {},
     "output_type": "execute_result"
    }
   ],
   "source": [
    "array2 = np.random.randint(2,9,size=(2,3))\n",
    "array2"
   ]
  },
  {
   "cell_type": "code",
   "execution_count": 40,
   "id": "7f4fe59e-5924-4eac-91fb-aae9dff9ced2",
   "metadata": {},
   "outputs": [
    {
     "data": {
      "text/plain": [
       "array([[ True, False, False],\n",
       "       [ True, False,  True]])"
      ]
     },
     "execution_count": 40,
     "metadata": {},
     "output_type": "execute_result"
    }
   ],
   "source": [
    "array1>=array2"
   ]
  },
  {
   "cell_type": "markdown",
   "id": "8947f3c1-665d-422a-bcdf-6fac702fcda6",
   "metadata": {},
   "source": [
    "### Sorting an arrays"
   ]
  },
  {
   "cell_type": "code",
   "execution_count": 41,
   "id": "0068b151-429f-46fc-bbe1-45afb3ed7aa7",
   "metadata": {},
   "outputs": [
    {
     "data": {
      "text/plain": [
       "array([[5, 4, 3],\n",
       "       [4, 4, 4]])"
      ]
     },
     "execution_count": 41,
     "metadata": {},
     "output_type": "execute_result"
    }
   ],
   "source": [
    "array1"
   ]
  },
  {
   "cell_type": "code",
   "execution_count": 42,
   "id": "cdd5dc03-75bf-4608-b89a-7cb2ee1b32dd",
   "metadata": {},
   "outputs": [
    {
     "data": {
      "text/plain": [
       "array([[3, 4, 5],\n",
       "       [4, 4, 4]])"
      ]
     },
     "execution_count": 42,
     "metadata": {},
     "output_type": "execute_result"
    }
   ],
   "source": [
    "np.sort(array1)"
   ]
  },
  {
   "cell_type": "code",
   "execution_count": 43,
   "id": "d4d81aa0-0a6b-4adb-9a6f-82289fad11c8",
   "metadata": {},
   "outputs": [
    {
     "data": {
      "text/plain": [
       "array([[2, 1, 0],\n",
       "       [0, 1, 2]])"
      ]
     },
     "execution_count": 43,
     "metadata": {},
     "output_type": "execute_result"
    }
   ],
   "source": [
    "np.argsort(array1)"
   ]
  },
  {
   "cell_type": "code",
   "execution_count": 44,
   "id": "0780f331-3fd8-4920-a9b1-bf50a1b176b1",
   "metadata": {},
   "outputs": [
    {
     "data": {
      "text/plain": [
       "2"
      ]
     },
     "execution_count": 44,
     "metadata": {},
     "output_type": "execute_result"
    }
   ],
   "source": [
    "np.argmin(array1)"
   ]
  }
 ],
 "metadata": {
  "kernelspec": {
   "display_name": "Python 3 (ipykernel)",
   "language": "python",
   "name": "python3"
  },
  "language_info": {
   "codemirror_mode": {
    "name": "ipython",
    "version": 3
   },
   "file_extension": ".py",
   "mimetype": "text/x-python",
   "name": "python",
   "nbconvert_exporter": "python",
   "pygments_lexer": "ipython3",
   "version": "3.10.12"
  }
 },
 "nbformat": 4,
 "nbformat_minor": 5
}
